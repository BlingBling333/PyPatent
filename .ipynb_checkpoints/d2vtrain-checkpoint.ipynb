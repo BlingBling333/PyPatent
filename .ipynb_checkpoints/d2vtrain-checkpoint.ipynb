{
 "cells": [
  {
   "cell_type": "code",
   "execution_count": 1,
   "metadata": {
    "collapsed": false
   },
   "outputs": [],
   "source": [
    "import os, nltk, re, codecs, gensim, collections\n",
    "from nltk import sent_tokenize, word_tokenize\n",
    "from random import shuffle\n",
    "from gensim import utils\n",
    "from gensim.models.doc2vec import LabeledSentence\n",
    "from gensim.models import Doc2Vec"
   ]
  },
  {
   "cell_type": "code",
   "execution_count": 2,
   "metadata": {
    "collapsed": false
   },
   "outputs": [],
   "source": [
    "directory = os.path.abspath(os.path.join(os.path.dirname(\"__file__\"), 'train'))\n",
    "filenames = os.listdir(directory)"
   ]
  },
  {
   "cell_type": "code",
   "execution_count": 3,
   "metadata": {
    "collapsed": false
   },
   "outputs": [
    {
     "name": "stdout",
     "output_type": "stream",
     "text": [
      "[TaggedDocument(words=['abstract', ':', 'surgical', 'training', 'is', 'evolving', 'from', 'an', 'observership', 'model', 'towards', 'a', 'new', 'paradigm', 'that', 'includes', 'virtual', 'reality', '(', 'vr', ')', 'simulation', '.', 'in', 'otolaryngology', ',', 'temporal', 'bone', 'dissection', 'has', 'become', 'intimately', 'linked', 'with', 'vr', 'simulation', 'as', 'the', 'complexity', 'of', 'anatomy', 'demands', 'a', 'high', 'level', 'of', 'surgeon', 'aptitude', 'and', 'confidence', '.', 'while', 'an', 'adequate', '3d', 'visualization', 'of', 'the', 'surgical', 'site', 'is', 'available', 'in', 'current', 'simulators', ',', 'the', 'force', 'feedback', 'rendered', 'during', 'haptic', 'interaction', 'does', 'not', 'convey', 'vibrations', '.', 'this', 'lack', 'of', 'vibration', 'rendering', 'limits', 'the', 'simulation', 'fidelity', 'of', 'a', 'surgical', 'drill', 'such', 'as', 'that', 'used', 'in', 'temporal', 'bone', 'dissection', '.', 'in', 'order', 'to', 'develop', 'an', 'immersive', 'simulation', 'platform', 'capable', 'of', 'haptic', 'force', 'and', 'vibration', 'feedback', ',', 'the', 'efficacy', 'of', 'hand', 'controllers', 'for', 'rendering', 'vibration', 'in', 'different', 'drilling', 'circumstances', 'needs', 'to', 'be', 'investigated', '.', 'in', 'this', 'study', ',', 'the', 'vibration', 'rendering', 'ability', 'of', 'four', 'different', 'haptic', 'hand', 'controllers', 'were', 'analyzed', 'and', 'compared', 'to', 'find', 'the', 'best', 'commercial', 'haptic', 'hand', 'controller', '.', 'a', 'test-rig', 'was', 'developed', 'to', 'record', 'vibrations', 'encountered', 'during', 'temporal', 'bone', 'dissection', 'and', 'a', 'software', 'was', 'written', 'to', 'render', 'the', 'recorded', 'signals', 'without', 'adding', 'hardware', 'to', 'the', 'system', '.', 'an', 'accelerometer', 'mounted', 'on', 'the', 'end-effector', 'of', 'each', 'device', 'recorded', 'the', 'rendered', 'vibration', 'signals', '.', 'the', 'newly', 'recorded', 'vibration', 'signal', 'was', 'compared', 'with', 'the', 'input', 'signal', 'in', 'both', 'time', 'and', 'frequency', 'domains', 'by', 'coherence', 'and', 'cross', 'correlation', 'analyses', 'to', 'quantitatively', 'measure', 'the', 'fidelity', 'of', 'these', 'devices', 'in', 'terms', 'of', 'rendering', 'vibrotactile', 'drilling', 'feedback', 'in', 'different', 'drilling', 'conditions', '.', 'this', 'method', 'can', 'be', 'used', 'to', 'assess', 'the', 'vibration', 'rendering', 'ability', 'in', 'vr', 'simulation', 'systems', 'and', 'selection', 'of', 'ideal', 'haptic', 'devices', '.', '(', 'c', ')', '2016', 'elsevier', 'ltd.', 'all', 'rights', 'reserved', '.'], tags=[0]), TaggedDocument(words=['abstract', ':', 'in', 'this', 'letter', ',', 'we', 'present', 'the', 'design', ',', 'kinematic', 'analysis', ',', 'model', 'validation', ',', 'and', 'teleoperation', 'of', 'a', 'miniature', 'eight-degree-of-freedom', '(', '8-dof', ')', 'parallel', 'continuum', 'manipulator', 'with', 'a', 'cable-driven', 'grasper', '.', 'our', 'motivation', 'is', 'to', 'provide', 'increased', 'dexterity', 'and', 'stability', 'in', 'confined-space', 'surgical', 'applications', ',', 'particularly', 'for', 'intraluminal', 'endoscopic', 'procedures', '.', 'the', 'system', 'design', 'uses', 'six', 'superelastic', 'niti', '(', 'nitinol', ')', 'tubes', 'in', 'a', 'standard', 'stewart-gough', 'configuration', 'and', 'an', 'integrated', 'end', 'effector', 'that', 'provides', '180deg', 'articulation', 'of', 'two', 'jaws', 'actuated', 'by', 'kevlar', 'cables', 'that', 'pass', 'through', 'the', 'tube', 'legs', '.', 'a', 'computationally', 'efficient', 'inverse', 'kinematics', 'model', 'provides', 'real-time', ',', 'low-level', 'actuator', 'commands', 'to', 'enable', 'teleoperation', '.', 'we', 'provide', 'a', 'kinematic', 'workspace', 'analysis', 'of', 'this', 'design', ',', 'which', 'depicts', 'how', 'mechanical', 'strain', ',', 'dexterity', ',', 'and', 'the', 'effect', 'of', 'force', 'application', 'vary', 'over', 'the', 'reachable', 'workspace', '.', 'we', 'also', 'experimentally', 'characterize', 'the', 'open-loop', 'model', 'accuracy', 'and', 'repeatability', 'of', 'our', 'physical', 'prototype', ',', 'obtaining', 'mean', 'errors', 'of', 'approximately', '1.19', 'mm', 'and', '3.81deg', 'and', 'a', 'repeatability', 'rms', 'error', 'of', '0.88', 'mm', 'and', '1.96deg', '.', 'finally', ',', 'we', 'demonstrate', 'the', 'feasibility', 'of', 'minimally', 'invasive', 'surgical', 'applications', 'by', 'conducting', 'user', 'trials', 'for', 'a', 'pick-and-place', 'task', 'under', 'unilateral', 'model-based', 'teleoperation', '.'], tags=[1]), TaggedDocument(words=['abstract', ':', 'wire-driven', 'flexible', 'robots', 'are', 'efficient', 'devices', 'for', 'minimally', 'invasive', 'surgery', ',', 'since', 'they', 'can', 'work', 'well', 'in', 'complex', 'and', 'confined', 'environments', '.', 'however', ',', 'the', 'real-time', 'position', 'and', 'shape', 'information', 'of', 'the', 'robot', 'can', 'not', 'be', 'well', 'estimated', ',', 'especially', 'when', 'there', 'is', 'a', 'payload', 'on', 'the', 'end', 'effector', '.', 'in', 'this', 'paper', ',', 'a', 'novel', 'tracking', 'and', 'shape', 'reconstruction', 'method', 'for', 'a', 'wire-driven', 'flexible', 'robot', 'is', 'proposed', '.', 'the', 'proposed', 'method', 'utilizes', 'the', 'length', 'of', 'the', 'robot', 'as', 'well', 'as', 'the', 'positional', 'and', 'directional', 'information', 'measured', 'by', 'an', 'electromagnetic', 'sensor', 'mounted', 'at', 'the', 'distal', 'end', 'of', 'the', 'robot', '.', 'a', 'reconstruction', 'algorithm', ',', 'which', 'is', 'based', 'on', 'a', 'three', 'order', 'bezier', 'curve', ',', 'is', 'then', 'carried', 'out', 'utilizing', 'the', 'positional', 'and', 'directional', 'information', 'along', 'with', 'the', 'length', 'information', 'of', 'the', 'robot', '.', 'this', 'method', 'can', 'provide', 'good', 'tracking', 'results', 'and', 'high', 'shape', 'reconstruction', 'accuracy', 'with', 'limited', 'modification', 'of', 'the', 'robot', '.', 'compared', 'with', 'other', 'reconstruction', 'methods', ',', 'the', 'proposed', 'method', 'does', 'not', 'rely', 'on', 'any', 'mechanical', 'model', 'of', 'the', 'robot', '.', 'therefore', ',', 'the', 'method', 'works', 'well', 'with', 'an', 'unknown', 'payload', '.', 'the', 'feasibility', 'of', 'the', 'proposed', 'method', 'is', 'verified', 'by', 'both', 'simulation', 'and', 'experimental', 'results', '.', '(', 'c', ')', '2015', 'elsevier', 'ltd.', 'all', 'rights', 'reserved', '.'], tags=[2])]\n"
     ]
    }
   ],
   "source": [
    "def read_corpus():\n",
    "\n",
    "    alldata = []\n",
    "\n",
    "    for file in filenames:\n",
    "        f = os.path.join(directory, file)\n",
    "        with codecs.open(f, 'r', encoding='ISO-8859-1') as t:\n",
    "            t_clean = t.read()\n",
    "            slines = t_clean.splitlines()\n",
    "            for line in slines:\n",
    "                line = line.lower()\n",
    "                line = re.sub('^\\t', '', line)\n",
    "                word_tokens = word_tokenize(line)\n",
    "                if len(word_tokens) != 0 and word_tokens[0].startswith('abstract'):\n",
    "                    alldata.append(word_tokens)\n",
    "    \n",
    "    for i, abstract in enumerate(alldata):\n",
    "        yield gensim.models.doc2vec.TaggedDocument(abstract, [i])\n",
    "\n",
    "train_corpus = list(read_corpus())\n",
    "print(train_corpus[:3])"
   ]
  },
  {
   "cell_type": "code",
   "execution_count": 4,
   "metadata": {
    "collapsed": true
   },
   "outputs": [],
   "source": [
    "model = gensim.models.doc2vec.Doc2Vec(size=50, min_count=2, iter=55)"
   ]
  },
  {
   "cell_type": "code",
   "execution_count": 5,
   "metadata": {
    "collapsed": false
   },
   "outputs": [],
   "source": [
    "model.build_vocab(train_corpus)"
   ]
  },
  {
   "cell_type": "code",
   "execution_count": 6,
   "metadata": {
    "collapsed": false
   },
   "outputs": [
    {
     "name": "stdout",
     "output_type": "stream",
     "text": [
      "CPU times: user 2.65 s, sys: 186 ms, total: 2.84 s\n",
      "Wall time: 1.35 s\n"
     ]
    },
    {
     "data": {
      "text/plain": [
       "976148"
      ]
     },
     "execution_count": 6,
     "metadata": {},
     "output_type": "execute_result"
    }
   ],
   "source": [
    "%time model.train(train_corpus, total_examples=model.corpus_count)"
   ]
  },
  {
   "cell_type": "code",
   "execution_count": 7,
   "metadata": {
    "collapsed": false
   },
   "outputs": [
    {
     "name": "stdout",
     "output_type": "stream",
     "text": [
      "[ 0.01329507  0.04116756 -0.00503034  0.05900662 -0.03607457 -0.08635619\n",
      " -0.03194524 -0.03875767  0.03668084  0.05477848 -0.02121238 -0.01474856\n",
      " -0.0047201  -0.01893769  0.01623149  0.00525685 -0.04530971 -0.08397169\n",
      "  0.08543845 -0.03915385  0.07119739 -0.07579942  0.07293773  0.01938784\n",
      " -0.00485407 -0.00208733 -0.08627415  0.00816097 -0.0759835  -0.04010138\n",
      " -0.06425526 -0.08384609  0.01393502 -0.06227853  0.03690941 -0.06471564\n",
      " -0.00250818  0.07395116  0.0132476   0.04540789  0.01075058 -0.06535107\n",
      "  0.00090674 -0.00290885  0.09275433 -0.04156831 -0.02543715 -0.05737796\n",
      " -0.00434358 -0.04069665]\n"
     ]
    }
   ],
   "source": [
    "example = 'this is an ideal invention'\n",
    "e_tokens = word_tokenize(example)\n",
    "print(model.infer_vector(e_tokens))"
   ]
  },
  {
   "cell_type": "code",
   "execution_count": 8,
   "metadata": {
    "collapsed": false
   },
   "outputs": [],
   "source": [
    "patent = '''Anarticulating surgical instrument suited for endoscopic use \n",
    "includes a lateral articulation control into a handle portion \n",
    "that provides an intuitive visual and tactile indication to the \n",
    "clinician as to the amount and direction of articulation of an \n",
    "end effector at a distal end of a shaft. Lateral movement of \n",
    "a lateral control actuator is converted into a longitudinal \n",
    "motion or a rotational motion transferred by the shaft to an articulation mechanism. \n",
    "Aversion of a lateral articulation control for a rotationally driven articulation mechanism \n",
    "incorporates an articulation backdrive lockout that prevents forces on the end effector from \n",
    "causing the selected amount of articulation from being changed.'''\n",
    "patent_tokens = word_tokenize(patent)\n",
    "patent_vec = model.infer_vector(patent_tokens)"
   ]
  },
  {
   "cell_type": "code",
   "execution_count": 9,
   "metadata": {
    "collapsed": false
   },
   "outputs": [
    {
     "name": "stdout",
     "output_type": "stream",
     "text": [
      "Test Document: Patent\n",
      "SIMILAR/DISSIMILAR DOCS PER MODEL Doc2Vec(dm/m,d50,n5,w5,mc2,s0.001,t3):\n",
      "\n",
      "MOST (146, 0.805659294128418): «abstract : this paper presents the development of an underactuated compliant gripper using a biocompatible superelastic alloy namely mtinol this gripper hay two fingers with five phalanges each and can be used as the end effector of an endoscopic instrument optmization procedures are required to obtain the geometry of the transmission mechanism because of its underactuated nature and its underlying complexity a driving mechanism further incorporated m the gripper to distribute actuation to both fingers and accomplish the grasping of asymmetrical objects without requiring supplementary inputs is also discussed finally the results of numerical simulations with different materials and different grasped objects are prevented and discussed [ doi 10.1115/1.3089249 ]»\n",
      "\n",
      "MEDIAN (66, 0.502617359161377): «abstract : this research develops a robot plan for a system that automatically debrides burned tissue on burn victims using a high energy laser for the ablation of the burned tissue . the automated robotic system consists of a robot whose end effector is equipped with a laser head whence the laser beam emanates and a vision system that is used to acquire the 3-d coordinates of some points on the body surface ; 3-d surface modelling routines for generating the surface model of the treatment area ; and control and interface hardware and software for control and integration of all the system components .»\n",
      "\n",
      "LEAST (9, 0.16747741401195526): «abstract : the foundation of surgical robotics is in the development of the robotic arm . this is a thorough review of the literature on the nature and development of this device with emphasis on surgical applications . we have reviewed the published literature and classified robotic arms by their application : show , industrial application , medical application , etc . there is a definite trend in the manufacture of robotic arms toward more dextrous devices , more degrees-of-freedom , and capabilities beyond the human arm . da vinci designed the first sophisticated robotic arm in 1495 with four degrees-of-freedom and an analog on-board controller supplying power and programmability . von kemplen 's chess-playing automaton left arm was quite sophisticated . unimate introduced the first industrial robotic arm in 1961 , it has subsequently evolved into the puma arm . in 1963 the rancho arm was designed ; minsky 's tentacle arm appeared in 1968 , scheinman 's stanford arm in 1969 , and mit 's silver arm in 1974. aird became the first cyborg human with a robotic arm in 1993. in 2000 miguel nicolalis redefined possible man-machine capacity in his work on cerebral implantation in owl-monkeys directly interfacing with robotic arms both locally and at a distance . the robotic arm is the end-effector of robotic systems and currently is the hallmark feature of the da vinci surgical system making its entrance into surgical application . but , despite the potential advantages of this computer-controlled master-slave system , robotic arms have definite limitations . ongoing work in robotics has many potential solutions to the drawbacks of current robotic surgical systems .»\n",
      "\n"
     ]
    }
   ],
   "source": [
    "sims = model.docvecs.most_similar([patent_vec], topn=len(model.docvecs))\n",
    "\n",
    "# Compare and print the most/median/least similar documents from the train corpus\n",
    "print('Test Document: Patent')\n",
    "print(u'SIMILAR/DISSIMILAR DOCS PER MODEL %s:\\n' % model)\n",
    "for label, index in [('MOST', 0), ('MEDIAN', len(sims)//2), ('LEAST', len(sims) - 1)]:\n",
    "    print(u'%s %s: «%s»\\n' % (label, sims[index], ' '.join(train_corpus[sims[index][0]].words)))"
   ]
  },
  {
   "cell_type": "code",
   "execution_count": 10,
   "metadata": {
    "collapsed": true
   },
   "outputs": [],
   "source": [
    "ranks = []\n",
    "second_ranks = []\n",
    "for doc_id in range(len(train_corpus)):\n",
    "    inferred_vector = model.infer_vector(train_corpus[doc_id].words)\n",
    "    sims = model.docvecs.most_similar([inferred_vector], topn=len(model.docvecs))\n",
    "    rank = [docid for docid, sim in sims].index(doc_id)\n",
    "    ranks.append(rank)\n",
    "    \n",
    "    second_ranks.append(sims[1])"
   ]
  },
  {
   "cell_type": "code",
   "execution_count": 11,
   "metadata": {
    "collapsed": false
   },
   "outputs": [
    {
     "data": {
      "text/plain": [
       "Counter({0: 146, 1: 10, 2: 1})"
      ]
     },
     "execution_count": 11,
     "metadata": {},
     "output_type": "execute_result"
    }
   ],
   "source": [
    "'''Basically, greater than 95% of the inferred documents are found to be most similar to \n",
    "itself and about 5% of the time it is mistakenly most similar to another document. \n",
    "the checking of an inferred-vector against a training-vector is a sort of 'sanity check' as \n",
    "to whether the model is behaving in a usefully consistent manner, though not a real 'accuracy' \n",
    "value.'''\n",
    "collections.Counter(ranks)"
   ]
  },
  {
   "cell_type": "code",
   "execution_count": 12,
   "metadata": {
    "collapsed": false
   },
   "outputs": [
    {
     "name": "stdout",
     "output_type": "stream",
     "text": [
      "Document (156): «abstract : minimally invasive surgery ( mis ) has become an important field in the health care sector over the last decade . still , there is the need for improving existing instruments and developing new tools providing increased functionality . this work presents innovative solutions and experimental results for a new generation of innovative polymer-based shaft instruments for minimally invasive surgery . the investigated components comprise a new kind of end-effector mechanism and all improved force transmission for actuating the effector .»\n",
      "\n",
      "SIMILAR/DISSIMILAR DOCS PER MODEL Doc2Vec(dm/m,d50,n5,w5,mc2,s0.001,t3):\n",
      "\n",
      "MOST (156, 0.8287349939346313): «abstract : minimally invasive surgery ( mis ) has become an important field in the health care sector over the last decade . still , there is the need for improving existing instruments and developing new tools providing increased functionality . this work presents innovative solutions and experimental results for a new generation of innovative polymer-based shaft instruments for minimally invasive surgery . the investigated components comprise a new kind of end-effector mechanism and all improved force transmission for actuating the effector .»\n",
      "\n",
      "MEDIAN (56, 0.5045050978660583): «abstract : although endoscopic surgery has become widespread and is currently used in a wide range of general , thoracic , urologic , gynecologic , and orthopedic procedures , many major difficulties remain because sensorial information is restricted to a two-dimensional image , and effector instruments have limited maneuverability due to the rigid shaft axis fixed to the abdominal wall by the entry trocar . to overcome these problems , advanced engineering technology has been introduced in laparoscopic surgery which includes three-dimensional video imaging , robotic laparoscopic cameraholders , telemanipulated flexible effector instruments , and tactile feedback . a voice-controlled robotic laparoscopic holder ( aesop200 , computer motion inc. usa ) provides stable support for the laparoscope during laparoscopic surgery performed by a single surgeon . a new computer-assisted telemanipulation robot ( intuitive surgical inc. usa ) permits the performance of completely endoscopic coronary artery bypass and nissen fundoplication . furthermore , price reductions and technological advances in telecommunications have made telementoring in endoscopic surgery available for routine clinical use , and intercontinental surgical video teleconferences fruitful opportunities for discussing technical details . the fusion of medicine and technology in endoscopic surgery would overcome difficulties in the conventional endoscopic approach .»\n",
      "\n",
      "LEAST (92, 0.1004452109336853): «abstract : background : although minimally invasive surgery ( mis ) affords several advantages compared to conventional open surgery , robotic mis systems still have many limitations . one of the limitations is the non-uniform gripping force due to mechanical strings of the existing systems . to overcome this limitation , a surgical instrument with a pneumatic gripping system consisting of a compressor , catheter balloon , micro motor , and other parts is developed . method : this study aims to implement a surgical instrument with a pneumatic gripping system and pitching/yawing joints using micro motors and without mechanical strings based on the surgical-operation-by-wire ( sobw ) concept . a 6-axis external arm for increasing degrees of freedom ( dofs ) is integrated with the surgical instrument using labviewreg for laparoscopic procedures . the gripping force is measured over a wide range of pressures and compared with the simulated ideal step function . furthermore , a kinematic analysis is conducted . to validate and evaluate the system 's clinical applicability , a simple peg task experiment and workspace identification experiment are performed with five novice volunteers using the fundamentals of laparoscopic surgery ( fls ) board kit . the master interface of the proposed system employs the hands-on-throttle-and-stick ( hotas ) controller used in aerospace engineering . to develop an improved hotas ( ihotas ) controller , 6-axis force/torque sensor was integrated in the special housing . results : the mean gripping force ( after 1,000 repetitions ) at a pressure of 0.3 mpa was measured to be 5.8 n. the reaction time was found to be 0.4 s , which is almost real-time . all novice volunteers could complete the simple peg task within a mean time of 176 s , and none of them exceeded the 300 s cut-off time . the system 's workspace was calculated to be 11,157.0 cm3 . conclusions : the proposed pneumatic gripping system provides a force consistent with that of other robotic mis systems . it provides near real-time control . it is more durable than the existing other surgical robot systems . its workspace is sufficient for clinical surgery . therefore , the proposed system is expected to be widely used for laparoscopic robotic surgery . this research using ihotas will be applied to the tactile force feedback system for surgeon 's safe operation .»\n",
      "\n"
     ]
    }
   ],
   "source": [
    "print('Document ({}): «{}»\\n'.format(doc_id, ' '.join(train_corpus[doc_id].words)))\n",
    "print(u'SIMILAR/DISSIMILAR DOCS PER MODEL %s:\\n' % model)\n",
    "for label, index in [('MOST', 0), ('MEDIAN', len(sims)//2), ('LEAST', len(sims) - 1)]:\n",
    "    print(u'%s %s: «%s»\\n' % (label, sims[index], ' '.join(train_corpus[sims[index][0]].words)))"
   ]
  },
  {
   "cell_type": "code",
   "execution_count": null,
   "metadata": {
    "collapsed": true
   },
   "outputs": [],
   "source": []
  }
 ],
 "metadata": {
  "anaconda-cloud": {},
  "kernelspec": {
   "display_name": "Python [conda env:patent]",
   "language": "python",
   "name": "conda-env-patent-py"
  },
  "language_info": {
   "codemirror_mode": {
    "name": "ipython",
    "version": 3
   },
   "file_extension": ".py",
   "mimetype": "text/x-python",
   "name": "python",
   "nbconvert_exporter": "python",
   "pygments_lexer": "ipython3",
   "version": "3.5.2"
  }
 },
 "nbformat": 4,
 "nbformat_minor": 1
}
