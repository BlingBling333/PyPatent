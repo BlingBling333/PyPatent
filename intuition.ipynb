{
 "cells": [
  {
   "cell_type": "markdown",
   "metadata": {},
   "source": [
    "# Exploring the Intuition Behind Doc2Vec for PyPatent\n",
    "\n",
    "This notebook was made in order to help researchers from outside the field of **Natural Language Processing** to understand the _intuition_ behind the **Doc2Vec** algorithm. We will load our model, which was trained on our patents and abstracts using the Python library `gensim`, and show you how our model has learned (i.e. been trained) to \"understand\" biomedical/surgical patents. This notebook will contain mostly `Python` code, with `print` statements designed to show you how our model is working.\n",
    "\n",
    "If you would like to understand the fundamentals of **Doc2Vec** please read [the original paper by Quoc V. Le and Tomas Mikolov (2014)](https://arxiv.org/abs/1405.4053)"
   ]
  },
  {
   "cell_type": "code",
   "execution_count": 1,
   "metadata": {
    "collapsed": false
   },
   "outputs": [],
   "source": [
    "#Firstly, we will import all the libraries/packages we need for the model\n",
    "import os, gensim\n",
    "from gensim import utils\n",
    "from gensim.models import Doc2Vec\n",
    "from sklearn.metrics.pairwise import cosine_similarity\n",
    "from scipy import sparse"
   ]
  },
  {
   "cell_type": "code",
   "execution_count": 2,
   "metadata": {
    "collapsed": false
   },
   "outputs": [
    {
     "data": {
      "text/plain": [
       "'1.0.1'"
      ]
     },
     "execution_count": 2,
     "metadata": {},
     "output_type": "execute_result"
    }
   ],
   "source": [
    "#We are working with Gensim version 1.0.1\n",
    "gensim.__version__"
   ]
  },
  {
   "cell_type": "code",
   "execution_count": 3,
   "metadata": {
    "collapsed": false
   },
   "outputs": [
    {
     "name": "stdout",
     "output_type": "stream",
     "text": [
      "We have loaded our model: Doc2Vec(dm/m,d300,n5,w10,mc5,s0.001,t11)\n"
     ]
    }
   ],
   "source": [
    "#Function to load our saved model\n",
    "def load_model():\n",
    "    path = '/Users/hclent/Desktop/PyPatent/train/a2v.d2v'\n",
    "    model = Doc2Vec.load(path)\n",
    "    return model\n",
    "\n",
    "model = load_model()\n",
    "print(\"We have loaded our model: \" + str(model))"
   ]
  },
  {
   "cell_type": "markdown",
   "metadata": {},
   "source": [
    "## Most_Similar\n",
    "\n",
    "We will begin exploring the intuition of our `model`, by finding out what words it says are similar. In the next few cells, you can interpret the method `model.most_similar(WORD)` to mean \"What does the `model` think are the most relevant synonyms for _WORD_\"? "
   ]
  },
  {
   "cell_type": "code",
   "execution_count": 4,
   "metadata": {
    "collapsed": false
   },
   "outputs": [
    {
     "name": "stdout",
     "output_type": "stream",
     "text": [
      "[('surgeries', 0.3442145586013794), ('procedure', 0.3184318244457245), ('operation', 0.31324779987335205), ('surgical', 0.30597832798957825), ('procedures', 0.28746357560157776), ('arthroplasty', 0.2694127559661865), ('operations', 0.26199889183044434), ('myotomy', 0.2579127550125122), ('surgeons', 0.257735937833786), ('analyte', 0.2530910074710846)]\n"
     ]
    }
   ],
   "source": [
    "print(model.most_similar('surgery'))"
   ]
  },
  {
   "cell_type": "code",
   "execution_count": 5,
   "metadata": {
    "collapsed": false
   },
   "outputs": [
    {
     "name": "stdout",
     "output_type": "stream",
     "text": [
      "[('staplers', 0.5225029587745667), ('stapled', 0.4372146725654602), ('cutters', 0.34573912620544434), ('stapling', 0.33906006813049316), ('regression', 0.32182642817497253), ('dichroism', 0.312794029712677), ('reinforcements', 0.2912917733192444), ('endostapler', 0.2803919315338135), ('staples', 0.2744087278842926), ('pores', 0.2686074376106262)]\n"
     ]
    }
   ],
   "source": [
    "print(model.most_similar('stapler'))"
   ]
  },
  {
   "cell_type": "code",
   "execution_count": 6,
   "metadata": {
    "collapsed": false
   },
   "outputs": [
    {
     "name": "stdout",
     "output_type": "stream",
     "text": [
      "[('cardiovascular', 0.27750590443611145), ('cardioverter', 0.26840659976005554), ('heart', 0.26839470863342285), ('ventricular', 0.2524974048137665), ('neurostimulator', 0.25177001953125), ('carotid', 0.24607184529304504), ('atrial', 0.24096183478832245), ('enzyme', 0.2282566875219345), ('aorta', 0.2266642153263092), ('coronary', 0.22369340062141418)]\n"
     ]
    }
   ],
   "source": [
    "print(model.most_similar('cardiac'))"
   ]
  },
  {
   "cell_type": "markdown",
   "metadata": {},
   "source": [
    "## Doesnt match\n",
    "\n",
    "Next we will see which words our `model` has determined **NOT** to be similar, by giving it a set of words and seeing which word it thinks does not belong."
   ]
  },
  {
   "cell_type": "code",
   "execution_count": 7,
   "metadata": {
    "collapsed": false
   },
   "outputs": [
    {
     "name": "stdout",
     "output_type": "stream",
     "text": [
      "aorta does NOT belong\n"
     ]
    }
   ],
   "source": [
    "misfit1 = (model.doesnt_match(['surgeries', 'procedure', 'operation', 'aorta']))\n",
    "print(str(misfit1) + \" does NOT belong\")"
   ]
  },
  {
   "cell_type": "code",
   "execution_count": 8,
   "metadata": {
    "collapsed": false
   },
   "outputs": [
    {
     "name": "stdout",
     "output_type": "stream",
     "text": [
      "spine does NOT belong\n"
     ]
    }
   ],
   "source": [
    "misfit2 = (model.doesnt_match(['gastric', 'stomach', 'abdomen', 'spine']))\n",
    "print(str(misfit2) + \" does NOT belong\")"
   ]
  },
  {
   "cell_type": "markdown",
   "metadata": {},
   "source": [
    "## Document Vectors\n",
    "\n",
    "Now we go beyond word-level intuition checks for the doc2vec algorithm and look at how doc2vec works at a document-level. The examples below will reference the patent [US20090082789A1:Insertion Shroud for Surgical Instrument](https://patents.google.com/patent/US20090082789A1/en), which is a patent for surgical instrument related to stapling.\n",
    "\n",
    "Below is the vector for the abstract of `US20090082789A1`, learned by our `model`:\n"
   ]
  },
  {
   "cell_type": "code",
   "execution_count": 9,
   "metadata": {
    "collapsed": false,
    "scrolled": true
   },
   "outputs": [
    {
     "name": "stdout",
     "output_type": "stream",
     "text": [
      "[ -5.37599146e-01   5.82410872e-01  -9.11289528e-02   1.27289101e-01\n",
      "  -1.15000904e+00  -3.81910950e-01   3.97254884e-01  -1.42942205e-01\n",
      "  -8.32893431e-01  -6.54209077e-01   3.52837414e-01   4.51039463e-01\n",
      "  -2.12634102e-01  -1.12266636e+00   8.87699246e-01  -6.64432943e-01\n",
      "  -2.74389654e-01   8.37969601e-01  -2.56044865e-01   6.35576427e-01\n",
      "  -6.46699786e-01   7.95875609e-01   9.35347974e-02  -3.08808595e-01\n",
      "  -2.27562524e-02  -4.47416693e-01  -1.16460674e-01  -3.45282890e-02\n",
      "  -2.09293459e-02   3.20549756e-01   4.92052019e-01  -1.36537254e+00\n",
      "   6.74144208e-01  -1.00432408e+00  -1.25720873e-01  -3.17415327e-01\n",
      "  -7.39395559e-01  -3.10687333e-01  -2.02358818e+00  -6.64136589e-01\n",
      "   6.09621704e-01  -5.67504525e-01   4.96429026e-01  -9.91610229e-01\n",
      "  -1.08694875e+00   5.51266968e-01   1.04492700e+00   2.56416440e-01\n",
      "  -3.12293768e-01   3.87195081e-01   7.51868367e-01  -7.30785504e-02\n",
      "  -5.78872442e-01   5.52410424e-01  -9.33602273e-01   1.60721630e-01\n",
      "   2.73472778e-02  -1.33668318e-01   3.90189767e-01   1.16450036e+00\n",
      "   1.34763747e-01   1.47495821e-01   4.97304291e-01   3.78284976e-02\n",
      "   1.46722943e-01  -6.75405800e-01   2.04392716e-01  -7.70791531e-01\n",
      "  -1.44288361e+00   6.53411150e-01   4.24683571e-01  -3.97621542e-01\n",
      "  -6.27724588e-01  -1.00867641e+00  -2.93760687e-01   7.63271093e-01\n",
      "  -5.29650390e-01  -3.24390441e-01   6.35739386e-01   9.11122799e-01\n",
      "  -7.75896758e-02   5.69725215e-01  -4.92400050e-01   1.29897511e+00\n",
      "  -3.13837439e-01  -1.54758763e+00   6.97976232e-01  -9.70891953e-01\n",
      "   5.96626341e-01  -5.65206528e-01  -3.99897575e-01   1.99507326e-01\n",
      "   4.83422279e-02   1.16837680e+00  -2.01488778e-01  -5.23201168e-01\n",
      "   3.68752927e-01  -4.63178486e-01  -2.80841112e-01   3.51739585e-01\n",
      "   4.36710656e-01  -1.84057653e-01   1.30129442e-01  -2.05576420e-01\n",
      "  -4.02206272e-01   9.59071636e-01  -1.05282271e+00   5.37524223e-01\n",
      "   4.47245777e-01   3.38837206e-01  -2.83818573e-01   2.91384887e-02\n",
      "   2.97105581e-01   2.57763267e-01  -4.68971610e-01   3.09673280e-01\n",
      "   1.14104025e-01  -7.27837861e-01   1.16980708e+00  -2.74236053e-01\n",
      "  -7.12176025e-01  -5.42177081e-01  -5.45901895e-01  -7.06682742e-01\n",
      "   5.43985814e-02   4.87759113e-01  -7.97886103e-02  -3.64542186e-01\n",
      "   1.32039177e+00  -7.69934297e-01   2.47324295e-02   5.49649261e-02\n",
      "  -3.58990699e-01   5.01885079e-02  -1.20736682e+00   2.92595863e-01\n",
      "   6.00798786e-01   1.09838295e+00  -1.39540927e-02  -2.26788670e-01\n",
      "   4.68604386e-01   3.40517834e-02  -6.42507151e-02   6.32169485e-01\n",
      "  -5.03386617e-01  -1.62052202e+00  -2.30716795e-01  -1.29591155e+00\n",
      "   1.38656723e+00   2.20849067e-02  -9.65461195e-01   1.47383332e+00\n",
      "   5.77990830e-01  -4.49293017e-01  -6.18932664e-01   6.99425817e-01\n",
      "   1.96324408e-01   8.32645744e-02   1.97272331e-01   3.46582085e-01\n",
      "   4.81477916e-01  -5.54104328e-01   3.14822160e-02   5.45185208e-01\n",
      "  -1.44388640e+00   5.91880202e-01   8.86302590e-01  -4.24906649e-02\n",
      "  -4.11082357e-01  -2.39100546e-01   1.27007619e-01  -4.03168738e-01\n",
      "   1.94831598e+00  -1.53407723e-01  -1.38280943e-01   4.26764011e-01\n",
      "  -8.75580907e-02   5.75083867e-03   9.34145570e-01  -1.31873071e-01\n",
      "   8.27524185e-01  -3.52888525e-01  -1.14184690e+00   2.88846314e-01\n",
      "   1.66277319e-01  -5.22681713e-01  -2.83152312e-01  -1.09152341e+00\n",
      "  -6.82455361e-01  -3.32855850e-01   1.58320177e+00   4.04512763e-01\n",
      "   4.77522343e-01   3.00760508e-01   2.10446030e-01   2.56907910e-01\n",
      "   1.55178592e-01   1.30026436e+00  -1.05025947e+00  -1.85378920e-02\n",
      "  -3.02393764e-01   1.56591785e+00  -3.14239897e-02  -6.22893631e-01\n",
      "  -1.30541778e+00  -1.07247376e+00   8.80718052e-01  -5.18896341e-01\n",
      "   7.73112953e-01  -7.27994204e-01  -2.36141607e-01  -2.85735878e-04\n",
      "   5.37858367e-01  -2.46162936e-01  -2.79325783e-01  -9.32691991e-01\n",
      "  -1.23966604e-01  -3.58704031e-01   5.15447974e-01   8.65554154e-01\n",
      "  -1.19156457e-01  -6.46016747e-02  -4.74684864e-01   4.24888134e-01\n",
      "   7.43224919e-01  -1.10645652e+00   2.96407728e-03   9.18141305e-01\n",
      "   3.20916831e-01   2.43499324e-01  -8.39380682e-01  -1.82690471e-01\n",
      "  -3.96991968e-01   1.60868242e-01   1.00213838e+00  -4.23943162e-01\n",
      "  -7.04205573e-01  -5.76471865e-01  -6.36660278e-01   6.43802464e-01\n",
      "   7.92932332e-01   9.91805255e-01  -2.56172448e-01  -4.24034894e-01\n",
      "   1.42231917e+00  -5.47970347e-02  -4.27707464e-01  -1.77681267e-01\n",
      "  -4.55215156e-01  -1.48433411e+00   4.31558788e-01  -9.74875391e-01\n",
      "   4.06192333e-01  -2.49234632e-01   6.31321967e-01   4.76902813e-01\n",
      "   8.46219659e-01  -8.46935689e-01  -1.15114737e+00   1.23369658e+00\n",
      "  -1.76880091e-01   3.51690710e-01  -1.11760467e-01  -3.62251401e-02\n",
      "  -8.66948366e-01   2.68920898e-01   1.44276783e-01   2.49192023e+00\n",
      "   2.29303882e-01  -8.17284644e-01  -1.24474451e-01  -1.07487476e+00\n",
      "  -3.45322132e-01   3.09502155e-01   1.81284472e-01   5.71198046e-01\n",
      "  -1.86130121e-01  -4.71976072e-01  -1.51840061e-01   4.85752583e-01\n",
      "  -6.26494586e-01   2.71482319e-01  -5.74269116e-01   1.03638582e-01\n",
      "  -5.08239508e-01  -3.88166398e-01   1.02648473e+00  -3.94314587e-01\n",
      "  -6.27172470e-01   6.01856969e-02   1.32246590e+00  -3.34022731e-01\n",
      "  -3.02409865e-02   4.52798337e-01   3.97768021e-01  -5.08163512e-01\n",
      "  -1.01904832e-02  -3.10298175e-01   1.64788395e-01  -1.53230524e+00]\n"
     ]
    }
   ],
   "source": [
    "#The 100_ prefix for the filename is because US20090082789A1 is the 100th patent in our literature search\n",
    "docvec100 = model.docvecs['100_US20090082789A1.txt'] #Document Vector for US Patent\n",
    "print(docvec100)"
   ]
  },
  {
   "cell_type": "code",
   "execution_count": 10,
   "metadata": {
    "collapsed": false
   },
   "outputs": [
    {
     "name": "stdout",
     "output_type": "stream",
     "text": [
      "Vectors in our model have the data type: <class 'numpy.ndarray'>\n",
      "Vectors in our model are size: 300\n"
     ]
    }
   ],
   "source": [
    "print(\"Vectors in our model have the data type: \" + str(type(docvec100)))\n",
    "print(\"Vectors in our model are size: \" + str(docvec100.size))\n"
   ]
  },
  {
   "cell_type": "markdown",
   "metadata": {},
   "source": [
    "### To a person, a vector with 300 numbers doesn't mean much. But in the computer, the vector encodes information about the syntax and semantics of the words used in the document."
   ]
  },
  {
   "cell_type": "markdown",
   "metadata": {},
   "source": [
    "## Document Similarity\n",
    "\n",
    "Now we will use `gensim`'s built-in method to see which documents have the most similar vectors as `US20090082789A1`."
   ]
  },
  {
   "cell_type": "code",
   "execution_count": 11,
   "metadata": {
    "collapsed": false
   },
   "outputs": [
    {
     "name": "stdout",
     "output_type": "stream",
     "text": [
      "[('9_US20050006432A1.txt', 0.6722902655601501), ('34_47.txt', 0.6552937030792236), ('23_344.txt', 0.6413425207138062), ('41_US20050103819A1.txt', 0.6390607953071594), ('42_US20050103819A1.txt', 0.6362971067428589), ('5_118.txt', 0.6350618004798889), ('12_60.txt', 0.6329587697982788), ('70_12.txt', 0.6313894987106323), ('7_115.txt', 0.6299792528152466), ('7_34.txt', 0.6261162757873535)]\n"
     ]
    }
   ],
   "source": [
    "#Which documents are the most similar to patent US20090082789A1?\n",
    "sims = model.docvecs.most_similar(['100_US20090082789A1.txt'])\n",
    "print(sims)"
   ]
  },
  {
   "cell_type": "markdown",
   "metadata": {},
   "source": [
    "### According to our model, the most similar document to US20090082789A1 is another patent, US20050006432A1, which also documents features for a surgical stapling device.\n",
    "\n",
    "Our model says they are 67.22% similar"
   ]
  },
  {
   "cell_type": "code",
   "execution_count": 12,
   "metadata": {
    "collapsed": false
   },
   "outputs": [
    {
     "name": "stdout",
     "output_type": "stream",
     "text": [
      "A surgical device is disclosed which includes a handle portion, a central body portion and a SULU. The SULU includes a proximal body portion, an intermediate pivot member and a tool assembly. The intermediate pivot member is pivotally secured to the proximal body portion about a first pivot axis and the tool assembly is pivotally secured to the intermediate pivot member about a second pivot axis which is orthogonal to the first pivot axis. The SULU includes a plurality of articulation links which are operably connected to the tool assembly by non-rigid links. The articulation links are adapted to releasably engage articulation links positioned in the central body portion. The body portion articulation links are connected to an articulation actuator which is supported for omni-directional movement to effect articulation of the tool assembly about the first and second axes. The handle portion includes a spindle and barrel assembly drive mechanism for advancing and retracting a drive member positioned in the tool assembly. In one embodiment, the tool assembly includes a cartridge assembly having a plurality of staples and an anvil assembly.\n"
     ]
    }
   ],
   "source": [
    "with(open(\"/Users/hclent/Desktop/PyPatent/train/9_US20050006432A1.txt\", \"r\")) as f:\n",
    "    text = f.read()\n",
    "    print(text)"
   ]
  },
  {
   "cell_type": "markdown",
   "metadata": {},
   "source": [
    "### Document most_similarity within literature searches\n",
    "\n",
    "For our purposes, we only want to look at document similarity between patent and abstracts when the abstract was retrieved from a literature search with special regards to that patent. In other words, for each of the patents we have, we retrieved a special collection of abstracts for that patent via key word word search. Now we want to know if any of those abstracts are actually similar to the patent of interest.\n",
    "\n",
    "We will do this by taking the **cosine similarity** of the patent vector and all of the abstract vectors: `cos(patent, abstract)`"
   ]
  },
  {
   "cell_type": "code",
   "execution_count": 13,
   "metadata": {
    "collapsed": false
   },
   "outputs": [
    {
     "name": "stdout",
     "output_type": "stream",
     "text": [
      "Patent 100_US20090082789A1 and Abstract 100_15 are 53.9578855038% similar\n"
     ]
    }
   ],
   "source": [
    "p_vec = model.docvecs[\"100_US20090082789A1.txt\"] #Patent vector \n",
    "P = sparse.csr_matrix(p_vec) #Sparse Patent Vector \n",
    "a_vec = model.docvecs[\"100_15.txt\"] #An Abstract from the 100_prefix \n",
    "A = sparse.csr_matrix(a_vec)\n",
    "sim = cosine_similarity(P, A) #cos(patent, abstract) #\n",
    "percent = str((sim[0][0]) * 100) + \"%\"\n",
    "print(\"Patent 100_US20090082789A1 and Abstract 100_15 are \" +str(percent)+ \" similar\" )"
   ]
  },
  {
   "cell_type": "code",
   "execution_count": 14,
   "metadata": {
    "collapsed": false
   },
   "outputs": [
    {
     "name": "stdout",
     "output_type": "stream",
     "text": [
      "\tAuthor(s): Giaccaglia, V (Giaccaglia, Valentina); Antonelli, MS (Antonelli, Maria Serena); Chieco, PA (Chieco, Paola Addario); Cocorullo, G (Cocorullo, Gianfranco); Cavallini, M (Cavallini, Marco); Gulotta, G (Gulotta, Gaspare)\n",
      "\n",
      "\n",
      "\tTitle: Technical characteristics can make the difference in a surgical linear stapler. Or not?\n",
      "\n",
      "\n",
      "\tAbstract: Background: Anastomotic leak (AL) after gastrointestinal surgery is a severe complication associated with relevant short-and long-term sequelae. Most of the anastomosis are currently performed with a surgical stapler that is required to have appropriate characteristics to guarantee good performances. The aim of our study was to evaluate, in the laboratory, pressure resistance and tensile strength of anastomosis performed with different surgical linear staplers, available in the market. Materials and methods: We have been studying three linear staplers, with diverse cartridges and staple heights, of three different companies, used for gastrointestinal anastomosis and gastric or intestinal closure. We performed 50 anastomosis for each device, with the pertinent different cartridges, on fresh pig intestine, for a total of 350 anastomosis, then injected saline solution and recorded the pressure that provokes a leak on the staple line. There were no statistically significant differences between the mean pressure necessary to induce an AL in the various instruments (P > 0.05). For studying the tensile strength, we performed a total of 350 anastomosis with the different linear staplers on a special strong paper (Tyvek), then recorded the maximal tensile force that could open the anastomosis. Results: There were no statistically significant differences between the different staplers about the strength necessary to open the staple line (P > 0.05).\n",
      "\n",
      "\n",
      "\n"
     ]
    }
   ],
   "source": [
    "with(open(\"/Users/hclent/Desktop/PyPatent/train/100_15.txt\", \"r\")) as f:\n",
    "    text = f.read()\n",
    "    print(text)"
   ]
  },
  {
   "cell_type": "markdown",
   "metadata": {},
   "source": [
    "### Abstract 100_15 was 50% similar to the Patent US20090082789A1. Why does this similarity score make sense? \n",
    "\n",
    "If we read the abstract for `100_15` (i.e. the 15th abstract obtained in the literature search for patent # 100), we see supporting evidence that they are related:\n",
    "\n",
    "* performed with a surgical stapler\n",
    "* performed with different surgical linear staplers\n",
    "* We have been studying three linear staplers, with diverse cartridges and staple heights\n",
    "\n",
    "**Both the patent and the abstract are discussing staplers, and thus they are similar**"
   ]
  },
  {
   "cell_type": "markdown",
   "metadata": {},
   "source": [
    "## In the end...\n",
    "\n",
    "Our literature search contains over 16,000 abstracts for 120 patents. As most people do not have the time or resources to read thousands of biomedical abstracts, we are using **doc2vec** in order to automatically set aside dissimilar (i.e. irrelevant) abstracts, and thus focus only on the most relevant abstracts for our patents. "
   ]
  }
 ],
 "metadata": {
  "kernelspec": {
   "display_name": "Python 3",
   "language": "python",
   "name": "python3"
  },
  "language_info": {
   "codemirror_mode": {
    "name": "ipython",
    "version": 3
   },
   "file_extension": ".py",
   "mimetype": "text/x-python",
   "name": "python",
   "nbconvert_exporter": "python",
   "pygments_lexer": "ipython3",
   "version": "3.5.2"
  }
 },
 "nbformat": 4,
 "nbformat_minor": 2
}
